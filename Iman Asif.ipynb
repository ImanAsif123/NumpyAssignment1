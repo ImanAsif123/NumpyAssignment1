{
  "nbformat": 4,
  "nbformat_minor": 0,
  "metadata": {
    "colab": {
      "name": "Untitled0.ipynb",
      "provenance": []
    },
    "kernelspec": {
      "name": "python3",
      "display_name": "Python 3"
    }
  },
  "cells": [
    {
      "cell_type": "code",
      "metadata": {
        "id": "hrtE8fqXzS6y"
      },
      "source": [
        "import numpy as np"
      ],
      "execution_count": 2,
      "outputs": []
    },
    {
      "cell_type": "code",
      "metadata": {
        "colab": {
          "base_uri": "https://localhost:8080/"
        },
        "id": "sd1suthy0hY0",
        "outputId": "b1a5fb49-0b9e-416e-c9d0-093e96e4b2dd"
      },
      "source": [
        "#Create a null vector of size 10 \r\n",
        "np.zeros(10)"
      ],
      "execution_count": 4,
      "outputs": [
        {
          "output_type": "execute_result",
          "data": {
            "text/plain": [
              "array([0., 0., 0., 0., 0., 0., 0., 0., 0., 0.])"
            ]
          },
          "metadata": {
            "tags": []
          },
          "execution_count": 4
        }
      ]
    },
    {
      "cell_type": "code",
      "metadata": {
        "colab": {
          "base_uri": "https://localhost:8080/"
        },
        "id": "u80WTcwq1oUl",
        "outputId": "76b1d8ee-1483-4933-f171-9ce04061d97b"
      },
      "source": [
        "#Create a vector with values ranging from 10 to 49\r\n",
        "x=np.arange(10,50)\r\n",
        "print(x)"
      ],
      "execution_count": 8,
      "outputs": [
        {
          "output_type": "stream",
          "text": [
            "[10 11 12 13 14 15 16 17 18 19 20 21 22 23 24 25 26 27 28 29 30 31 32 33\n",
            " 34 35 36 37 38 39 40 41 42 43 44 45 46 47 48 49]\n"
          ],
          "name": "stdout"
        }
      ]
    },
    {
      "cell_type": "code",
      "metadata": {
        "colab": {
          "base_uri": "https://localhost:8080/"
        },
        "id": "ZQdg8SuU4Vql",
        "outputId": "28716d74-23af-4772-9d4c-a59a78dae97b"
      },
      "source": [
        "#Find the shape of previous array in question 3\r\n",
        "np.shape(x)"
      ],
      "execution_count": 9,
      "outputs": [
        {
          "output_type": "execute_result",
          "data": {
            "text/plain": [
              "(40,)"
            ]
          },
          "metadata": {
            "tags": []
          },
          "execution_count": 9
        }
      ]
    },
    {
      "cell_type": "code",
      "metadata": {
        "colab": {
          "base_uri": "https://localhost:8080/"
        },
        "id": "LVacBRUH4dI4",
        "outputId": "b948a83c-2313-4e5b-f202-9a8c703af3f1"
      },
      "source": [
        "#Print the type of the previous array in question 3\r\n",
        "type(x)"
      ],
      "execution_count": 19,
      "outputs": [
        {
          "output_type": "execute_result",
          "data": {
            "text/plain": [
              "numpy.ndarray"
            ]
          },
          "metadata": {
            "tags": []
          },
          "execution_count": 19
        }
      ]
    },
    {
      "cell_type": "code",
      "metadata": {
        "colab": {
          "base_uri": "https://localhost:8080/",
          "height": 36
        },
        "id": "cSldKxy05FZe",
        "outputId": "94fcd335-143a-4017-b0db-c372e49112a9"
      },
      "source": [
        " np.__version__ "
      ],
      "execution_count": 13,
      "outputs": [
        {
          "output_type": "execute_result",
          "data": {
            "application/vnd.google.colaboratory.intrinsic+json": {
              "type": "string"
            },
            "text/plain": [
              "'1.19.4'"
            ]
          },
          "metadata": {
            "tags": []
          },
          "execution_count": 13
        }
      ]
    },
    {
      "cell_type": "code",
      "metadata": {
        "colab": {
          "base_uri": "https://localhost:8080/"
        },
        "id": "ElxBtq585c8p",
        "outputId": "78abde2d-460c-44a8-bf76-4ee9cd40e0b8"
      },
      "source": [
        "#dimension of array\r\n",
        "x.ndim"
      ],
      "execution_count": 85,
      "outputs": [
        {
          "output_type": "execute_result",
          "data": {
            "text/plain": [
              "2"
            ]
          },
          "metadata": {
            "tags": []
          },
          "execution_count": 85
        }
      ]
    },
    {
      "cell_type": "code",
      "metadata": {
        "colab": {
          "base_uri": "https://localhost:8080/"
        },
        "id": "W7NMKmBu7K7E",
        "outputId": "32491ec9-e318-47d6-e9ee-5873dcda3a4b"
      },
      "source": [
        "#Create a boolean array with all the True values\r\n",
        "np.array(range(1,10),dtype=bool)"
      ],
      "execution_count": 18,
      "outputs": [
        {
          "output_type": "execute_result",
          "data": {
            "text/plain": [
              "array([ True,  True,  True,  True,  True,  True,  True,  True,  True])"
            ]
          },
          "metadata": {
            "tags": []
          },
          "execution_count": 18
        }
      ]
    },
    {
      "cell_type": "code",
      "metadata": {
        "colab": {
          "base_uri": "https://localhost:8080/"
        },
        "id": "d2K_M7s27hM-",
        "outputId": "592bbb7f-dcce-49ca-9713-e3505d3ec2a0"
      },
      "source": [
        "#Create a two dimensional array\r\n",
        "np.array(range(9)).reshape(3,3)"
      ],
      "execution_count": 22,
      "outputs": [
        {
          "output_type": "execute_result",
          "data": {
            "text/plain": [
              "array([[0, 1, 2],\n",
              "       [3, 4, 5],\n",
              "       [6, 7, 8]])"
            ]
          },
          "metadata": {
            "tags": []
          },
          "execution_count": 22
        }
      ]
    },
    {
      "cell_type": "code",
      "metadata": {
        "colab": {
          "base_uri": "https://localhost:8080/"
        },
        "id": "3iEJh-aA-bbG",
        "outputId": "27ff6ff6-e3cb-4ae3-afd4-353227302703"
      },
      "source": [
        "#Create a three dimensional array\r\n",
        "np.array(range(24)).reshape(2,3,4)"
      ],
      "execution_count": 29,
      "outputs": [
        {
          "output_type": "execute_result",
          "data": {
            "text/plain": [
              "array([[[ 0,  1,  2,  3],\n",
              "        [ 4,  5,  6,  7],\n",
              "        [ 8,  9, 10, 11]],\n",
              "\n",
              "       [[12, 13, 14, 15],\n",
              "        [16, 17, 18, 19],\n",
              "        [20, 21, 22, 23]]])"
            ]
          },
          "metadata": {
            "tags": []
          },
          "execution_count": 29
        }
      ]
    },
    {
      "cell_type": "code",
      "metadata": {
        "colab": {
          "base_uri": "https://localhost:8080/"
        },
        "id": "_W9GhmsAAtZS",
        "outputId": "73f186c1-a3c5-4fbd-bde1-b5311b817180"
      },
      "source": [
        "#Reverse a vector (first element becomes last)\r\n",
        "np.flip(x,axis=None)"
      ],
      "execution_count": 30,
      "outputs": [
        {
          "output_type": "execute_result",
          "data": {
            "text/plain": [
              "array([49, 48, 47, 46, 45, 44, 43, 42, 41, 40, 39, 38, 37, 36, 35, 34, 33,\n",
              "       32, 31, 30, 29, 28, 27, 26, 25, 24, 23, 22, 21, 20, 19, 18, 17, 16,\n",
              "       15, 14, 13, 12, 11, 10])"
            ]
          },
          "metadata": {
            "tags": []
          },
          "execution_count": 30
        }
      ]
    },
    {
      "cell_type": "code",
      "metadata": {
        "colab": {
          "base_uri": "https://localhost:8080/"
        },
        "id": "INQf63_eA9-R",
        "outputId": "50c69668-9ecf-4e32-eabc-c086bdb6700a"
      },
      "source": [
        "#Create a null vector of size 10 but the fifth value which is 1\r\n",
        "x=np.zeros(10,dtype=int)\r\n",
        "x[5]=1\r\n",
        "print(x)"
      ],
      "execution_count": 32,
      "outputs": [
        {
          "output_type": "stream",
          "text": [
            "[0 0 0 0 0 1 0 0 0 0]\n"
          ],
          "name": "stdout"
        }
      ]
    },
    {
      "cell_type": "code",
      "metadata": {
        "colab": {
          "base_uri": "https://localhost:8080/"
        },
        "id": "ypYfqosIBQcn",
        "outputId": "5065b025-67b4-4ed5-fcfe-73b96dec1d77"
      },
      "source": [
        "#Create a 3x3 identity matrix\r\n",
        "np.identity(3)"
      ],
      "execution_count": 33,
      "outputs": [
        {
          "output_type": "execute_result",
          "data": {
            "text/plain": [
              "array([[1., 0., 0.],\n",
              "       [0., 1., 0.],\n",
              "       [0., 0., 1.]])"
            ]
          },
          "metadata": {
            "tags": []
          },
          "execution_count": 33
        }
      ]
    },
    {
      "cell_type": "code",
      "metadata": {
        "colab": {
          "base_uri": "https://localhost:8080/"
        },
        "id": "LkyX24INBqau",
        "outputId": "0625e329-94c1-4bca-e4bb-e617e16bc0d8"
      },
      "source": [
        "#Convert the data type of the given array from int to float\r\n",
        "arr = np.array([1, 2, 3, 4, 5])\r\n",
        "arrfloat=arr.astype(np.float64)\r\n",
        "print(arrfloat)"
      ],
      "execution_count": 34,
      "outputs": [
        {
          "output_type": "stream",
          "text": [
            "[1. 2. 3. 4. 5.]\n"
          ],
          "name": "stdout"
        }
      ]
    },
    {
      "cell_type": "code",
      "metadata": {
        "colab": {
          "base_uri": "https://localhost:8080/"
        },
        "id": "mSTd4KZAGXMx",
        "outputId": "a419c513-19ce-4c50-ef32-06e507d8dd73"
      },
      "source": [
        " #Multiply arr1 with arr2\r\n",
        " arr1 = np.array([[1., 2., 3.],\r\n",
        "                [4., 5., 6.]])  \r\n",
        "arr2 = np.array([[0., 4., 1.],\r\n",
        "              [7., 2., 12.]])\r\n",
        "\r\n",
        "np.multiply(arr1,arr2)"
      ],
      "execution_count": 35,
      "outputs": [
        {
          "output_type": "execute_result",
          "data": {
            "text/plain": [
              "array([[ 0.,  8.,  3.],\n",
              "       [28., 10., 72.]])"
            ]
          },
          "metadata": {
            "tags": []
          },
          "execution_count": 35
        }
      ]
    },
    {
      "cell_type": "code",
      "metadata": {
        "colab": {
          "base_uri": "https://localhost:8080/"
        },
        "id": "TgbfgAndIShK",
        "outputId": "eacd58d7-ae86-4ba4-f8e8-5d3b51987d02"
      },
      "source": [
        "#Make an array by comparing both the arrays provided above\r\n",
        "comparison= arr1==arr2\r\n",
        "print(comparison)"
      ],
      "execution_count": 36,
      "outputs": [
        {
          "output_type": "stream",
          "text": [
            "[[False False False]\n",
            " [False False False]]\n"
          ],
          "name": "stdout"
        }
      ]
    },
    {
      "cell_type": "code",
      "metadata": {
        "colab": {
          "base_uri": "https://localhost:8080/"
        },
        "id": "CtVbrzI-Ip38",
        "outputId": "105e113c-7a2b-4fc7-c581-b9a64e9e3666"
      },
      "source": [
        "#odd numbers\r\n",
        "x=np.array(range(10))\r\n",
        "x[x % 2 == 1]\r\n"
      ],
      "execution_count": 38,
      "outputs": [
        {
          "output_type": "execute_result",
          "data": {
            "text/plain": [
              "array([1, 3, 5, 7, 9])"
            ]
          },
          "metadata": {
            "tags": []
          },
          "execution_count": 38
        }
      ]
    },
    {
      "cell_type": "code",
      "metadata": {
        "colab": {
          "base_uri": "https://localhost:8080/"
        },
        "id": "ox0bdAAcKEkE",
        "outputId": "03993015-5008-4c0c-c1ee-e4ce07863da3"
      },
      "source": [
        "#Replace all odd numbers to -1 from previous array\r\n",
        "x[x % 2 == 1]=-1\r\n",
        "print(x)"
      ],
      "execution_count": 40,
      "outputs": [
        {
          "output_type": "stream",
          "text": [
            "[ 0 -1  2 -1  4 -1  6 -1  8 -1]\n"
          ],
          "name": "stdout"
        }
      ]
    },
    {
      "cell_type": "code",
      "metadata": {
        "colab": {
          "base_uri": "https://localhost:8080/"
        },
        "id": "cJYWxR3vKOzL",
        "outputId": "e6485173-4505-4f99-ecf0-43db3f20d2c3"
      },
      "source": [
        "#Replace the values of indexes 5,6,7 and 8 to 12\r\n",
        "for a in [5,6,7,8]:\r\n",
        "  x[a]=12\r\n",
        "print(x)"
      ],
      "execution_count": 46,
      "outputs": [
        {
          "output_type": "stream",
          "text": [
            "[ 0 -1  2 -1  4 12 12 12 12 -1]\n"
          ],
          "name": "stdout"
        }
      ]
    },
    {
      "cell_type": "code",
      "metadata": {
        "colab": {
          "base_uri": "https://localhost:8080/"
        },
        "id": "jSaC5hRtgXbD",
        "outputId": "d4f457bf-71d4-4309-d53f-ecf887ca80a4"
      },
      "source": [
        "#Create a 2d array with 1 on the border and 0 inside\r\n",
        "x=np.zeros(9).reshape(3,3)\r\n",
        "x[0,0]=1\r\n",
        "#x[2,2]=1\r\n",
        "print(x)"
      ],
      "execution_count": 49,
      "outputs": [
        {
          "output_type": "stream",
          "text": [
            "[[1. 0. 0.]\n",
            " [0. 0. 0.]\n",
            " [0. 0. 0.]]\n"
          ],
          "name": "stdout"
        }
      ]
    },
    {
      "cell_type": "code",
      "metadata": {
        "id": "EzNoMQi3hW5j"
      },
      "source": [
        ""
      ],
      "execution_count": null,
      "outputs": []
    },
    {
      "cell_type": "markdown",
      "metadata": {
        "id": "pd66yNGbhitW"
      },
      "source": [
        "difficulty level medium"
      ]
    },
    {
      "cell_type": "code",
      "metadata": {
        "colab": {
          "base_uri": "https://localhost:8080/"
        },
        "id": "pdyzEo1PhokS",
        "outputId": "f5d0f2b8-3067-4537-8a6b-636e7ffaa844"
      },
      "source": [
        "#Replace the value 5 to 12\r\n",
        "arr2d = np.array([[1, 2, 3],[4, 5, 6],[7, 8, 9]])\r\n",
        "arr2d[1,1]=12\r\n",
        "print(arr2d)"
      ],
      "execution_count": 52,
      "outputs": [
        {
          "output_type": "stream",
          "text": [
            "[[ 1  2  3]\n",
            " [ 4 12  6]\n",
            " [ 7  8  9]]\n"
          ],
          "name": "stdout"
        }
      ]
    },
    {
      "cell_type": "code",
      "metadata": {
        "colab": {
          "base_uri": "https://localhost:8080/"
        },
        "id": "js9GUu67izcu",
        "outputId": "eaa3b39d-73ab-42b6-ce47-a966982a0234"
      },
      "source": [
        "arr3d = np.array([[[1, 2, 3], [4, 5, 6]], [[7, 8, 9], [10, 11, 12]]])\r\n",
        "#Convert all the values of 1st array to 64\r\n",
        "arr3d[0,0]=64\r\n",
        "print(arr3d)"
      ],
      "execution_count": 56,
      "outputs": [
        {
          "output_type": "stream",
          "text": [
            "[[[64 64 64]\n",
            "  [ 4  5  6]]\n",
            "\n",
            " [[ 7  8  9]\n",
            "  [10 11 12]]]\n"
          ],
          "name": "stdout"
        }
      ]
    },
    {
      "cell_type": "code",
      "metadata": {
        "colab": {
          "base_uri": "https://localhost:8080/"
        },
        "id": "gkZ280PnjLw8",
        "outputId": "bbf95d69-dd09-4892-80ab-cb83c3c994a0"
      },
      "source": [
        "#Make a 2-Dimensional array with values 0-9 and slice out the first 1st 1-D array from it\r\n",
        "x=np.array(range(9)).reshape(3,3)\r\n",
        "x[0]"
      ],
      "execution_count": 59,
      "outputs": [
        {
          "output_type": "execute_result",
          "data": {
            "text/plain": [
              "array([0, 1, 2])"
            ]
          },
          "metadata": {
            "tags": []
          },
          "execution_count": 59
        }
      ]
    },
    {
      "cell_type": "code",
      "metadata": {
        "colab": {
          "base_uri": "https://localhost:8080/"
        },
        "id": "nfmU0r9rj7ES",
        "outputId": "65348641-2b32-4262-a3a4-88b7f1e22cff"
      },
      "source": [
        "#Make a 2-Dimensional array with values 0-9 and slice out the 2nd value from 2nd 1-D array from it\r\n",
        "x[2,2]"
      ],
      "execution_count": 60,
      "outputs": [
        {
          "output_type": "execute_result",
          "data": {
            "text/plain": [
              "8"
            ]
          },
          "metadata": {
            "tags": []
          },
          "execution_count": 60
        }
      ]
    },
    {
      "cell_type": "code",
      "metadata": {
        "colab": {
          "base_uri": "https://localhost:8080/"
        },
        "id": "u-iSd23PkNZA",
        "outputId": "eb134f4d-a9f3-47dd-f53c-b50df42a0971"
      },
      "source": [
        "#Make a 2-Dimensional array with values 0-9 and slice out the third column but only the first two rows\r\n",
        "x[0:2,2:3]"
      ],
      "execution_count": 62,
      "outputs": [
        {
          "output_type": "execute_result",
          "data": {
            "text/plain": [
              "array([[2],\n",
              "       [5]])"
            ]
          },
          "metadata": {
            "tags": []
          },
          "execution_count": 62
        }
      ]
    },
    {
      "cell_type": "code",
      "metadata": {
        "colab": {
          "base_uri": "https://localhost:8080/"
        },
        "id": "0jCBwfx6k7RV",
        "outputId": "aca0fc6b-0c36-4de7-ec0a-2feb5b2867a8"
      },
      "source": [
        "#Create a 10x10 array with random values and find the minimum and maximum values\r\n",
        "y=np.array(range(100)).reshape(10,10)\r\n",
        "print(np.amin(y, axis=None)) #minimum value\r\n",
        "print(np.amax(y))"
      ],
      "execution_count": 68,
      "outputs": [
        {
          "output_type": "stream",
          "text": [
            "0\n",
            "99\n"
          ],
          "name": "stdout"
        }
      ]
    },
    {
      "cell_type": "code",
      "metadata": {
        "colab": {
          "base_uri": "https://localhost:8080/"
        },
        "id": "_9sW1_Dfmm7g",
        "outputId": "5a77dff8-5639-420b-b064-cf94739f50e8"
      },
      "source": [
        "#Find the common items between a and b\r\n",
        "a = np.array([1,2,3,2,3,4,3,4,5,6])\r\n",
        "b = np.array([7,2,10,2,7,4,9,4,9,8])\r\n",
        "np.intersect1d(a,b)"
      ],
      "execution_count": 72,
      "outputs": [
        {
          "output_type": "execute_result",
          "data": {
            "text/plain": [
              "array([2, 4])"
            ]
          },
          "metadata": {
            "tags": []
          },
          "execution_count": 72
        }
      ]
    },
    {
      "cell_type": "code",
      "metadata": {
        "colab": {
          "base_uri": "https://localhost:8080/"
        },
        "id": "rrtlL0xFrx17",
        "outputId": "67faa0a0-eac9-42a6-d240-0e1eb89c3b7f"
      },
      "source": [
        "#Find the positions where elements of a and b match\r\n",
        "np.intersect1d(a,b,return_indices=True)\r\n"
      ],
      "execution_count": 75,
      "outputs": [
        {
          "output_type": "execute_result",
          "data": {
            "text/plain": [
              "(array([2, 4]), array([1, 5]), array([1, 5]))"
            ]
          },
          "metadata": {
            "tags": []
          },
          "execution_count": 75
        }
      ]
    },
    {
      "cell_type": "code",
      "metadata": {
        "colab": {
          "base_uri": "https://localhost:8080/"
        },
        "id": "8EataMGestkn",
        "outputId": "e5dd965b-e6a3-4fe6-9182-211b16150a00"
      },
      "source": [
        "#Find all the values from array data where the values from array names are not equal to Will\r\n",
        "import random\r\n",
        "names = np.array(['Bob', 'Joe', 'Will', 'Bob', 'Will', 'Joe', 'Joe']) \r\n",
        "data = np.random.randint(7, size=random.randrange(1,10))\r\n",
        "print(np.where(names[data]!=\"Will\"))"
      ],
      "execution_count": 111,
      "outputs": [
        {
          "output_type": "stream",
          "text": [
            "(array([0]),)\n"
          ],
          "name": "stdout"
        }
      ]
    },
    {
      "cell_type": "code",
      "metadata": {
        "colab": {
          "base_uri": "https://localhost:8080/"
        },
        "id": "mUdBaJwwu-0Q",
        "outputId": "5d36a93b-c101-4702-83cf-6e33ba48081d"
      },
      "source": [
        "#Find all the values from array data where the values from array names are not equal to Will and Joe\r\n",
        "data = np.random.randint(7, size=random.randrange(1,10))\r\n",
        "print(np.where(names[data]!=\"Will\") and np.where(names[data]!=\"Joe\") )"
      ],
      "execution_count": 112,
      "outputs": [
        {
          "output_type": "stream",
          "text": [
            "(array([0, 2]),)\n"
          ],
          "name": "stdout"
        }
      ]
    },
    {
      "cell_type": "markdown",
      "metadata": {
        "id": "AogKIihbveYB"
      },
      "source": [
        "**DIFFICULTY LEVEL HARD**"
      ]
    },
    {
      "cell_type": "code",
      "metadata": {
        "colab": {
          "base_uri": "https://localhost:8080/"
        },
        "id": "C_k2awdkvksN",
        "outputId": "b7d8a8a9-053a-44c2-a79c-e3368cc2a668"
      },
      "source": [
        "#Create a 2D array of shape 5x3 to contain decimal numbers between 1 and 15.\r\n",
        "np.arange(1,16).reshape(5,3)"
      ],
      "execution_count": 80,
      "outputs": [
        {
          "output_type": "execute_result",
          "data": {
            "text/plain": [
              "array([[ 1,  2,  3],\n",
              "       [ 4,  5,  6],\n",
              "       [ 7,  8,  9],\n",
              "       [10, 11, 12],\n",
              "       [13, 14, 15]])"
            ]
          },
          "metadata": {
            "tags": []
          },
          "execution_count": 80
        }
      ]
    },
    {
      "cell_type": "code",
      "metadata": {
        "colab": {
          "base_uri": "https://localhost:8080/"
        },
        "id": "hP2raVt5xC1n",
        "outputId": "baf72dfa-2dab-419a-edf5-371db737442d"
      },
      "source": [
        "#Create an array of shape (2, 2, 4) with decimal numbers between 1 to 16\r\n",
        "np.arange(1,17).reshape(2,2,4)"
      ],
      "execution_count": 81,
      "outputs": [
        {
          "output_type": "execute_result",
          "data": {
            "text/plain": [
              "array([[[ 1,  2,  3,  4],\n",
              "        [ 5,  6,  7,  8]],\n",
              "\n",
              "       [[ 9, 10, 11, 12],\n",
              "        [13, 14, 15, 16]]])"
            ]
          },
          "metadata": {
            "tags": []
          },
          "execution_count": 81
        }
      ]
    },
    {
      "cell_type": "code",
      "metadata": {
        "colab": {
          "base_uri": "https://localhost:8080/"
        },
        "id": "499KHMSRxO26",
        "outputId": "312a8022-77f1-493b-ad2c-eed0a5b3a7e4"
      },
      "source": [
        "#Swap axes of the array you created in Question 32\r\n",
        "x = np.array([[1,2,3]])\r\n",
        "np.swapaxes(x,0,1)"
      ],
      "execution_count": 84,
      "outputs": [
        {
          "output_type": "execute_result",
          "data": {
            "text/plain": [
              "array([[1],\n",
              "       [2],\n",
              "       [3]])"
            ]
          },
          "metadata": {
            "tags": []
          },
          "execution_count": 84
        }
      ]
    },
    {
      "cell_type": "code",
      "metadata": {
        "colab": {
          "base_uri": "https://localhost:8080/"
        },
        "id": "dwiX1cXPyFFx",
        "outputId": "4d766bf2-97d0-4c7a-ca04-c714990affef"
      },
      "source": [
        "#Create an array of size 10, and find the square root of every element in the array, if the values less than 0.5, replace them with 0\r\n",
        "x=np.array(range(10))\r\n",
        "x**1/2"
      ],
      "execution_count": 88,
      "outputs": [
        {
          "output_type": "execute_result",
          "data": {
            "text/plain": [
              "array([0. , 0.5, 1. , 1.5, 2. , 2.5, 3. , 3.5, 4. , 4.5])"
            ]
          },
          "metadata": {
            "tags": []
          },
          "execution_count": 88
        }
      ]
    },
    {
      "cell_type": "code",
      "metadata": {
        "colab": {
          "base_uri": "https://localhost:8080/"
        },
        "id": "2VY8oNSwz26m",
        "outputId": "3edd405c-66e5-4342-a66e-9bcf6f8d2a1a"
      },
      "source": [
        "#Create two random arrays of range 12 and make an array with the maximum values between each element of the two arrays\r\n",
        "import random\r\n",
        "a=np.random.randint(12,size=random.randrange(0,12))\r\n",
        "b=np.random.randint(12,size=random.randrange(0,12))\r\n",
        "np.where(a==b)"
      ],
      "execution_count": 92,
      "outputs": [
        {
          "output_type": "stream",
          "text": [
            "/usr/local/lib/python3.6/dist-packages/ipykernel_launcher.py:5: DeprecationWarning: elementwise comparison failed; this will raise an error in the future.\n",
            "  \"\"\"\n"
          ],
          "name": "stderr"
        },
        {
          "output_type": "execute_result",
          "data": {
            "text/plain": [
              "(array([], dtype=int64),)"
            ]
          },
          "metadata": {
            "tags": []
          },
          "execution_count": 92
        }
      ]
    },
    {
      "cell_type": "code",
      "metadata": {
        "colab": {
          "base_uri": "https://localhost:8080/"
        },
        "id": "7934sLzx_89O",
        "outputId": "810d057e-df2d-4ae6-b927-27a767c578d4"
      },
      "source": [
        "#Find the unique names and sort them out\r\n",
        "names = np.array(['Bob', 'Joe', 'Will', 'Bob', 'Will', 'Joe', 'Joe'])\r\n",
        "np.unique(names)"
      ],
      "execution_count": 93,
      "outputs": [
        {
          "output_type": "execute_result",
          "data": {
            "text/plain": [
              "array(['Bob', 'Joe', 'Will'], dtype='<U4')"
            ]
          },
          "metadata": {
            "tags": []
          },
          "execution_count": 93
        }
      ]
    },
    {
      "cell_type": "code",
      "metadata": {
        "colab": {
          "base_uri": "https://localhost:8080/"
        },
        "id": "Er6ccX0RGy2v",
        "outputId": "27e3323a-8ba0-4a52-8df1-6986b80ffb27"
      },
      "source": [
        "#From array a remove all items present in array b\r\n",
        "a = np.array([1,2,3,4,5])\r\n",
        "b = np.array([5,6,7,8,9])\r\n",
        "np.setdiff1d(a, b)\r\n"
      ],
      "execution_count": 95,
      "outputs": [
        {
          "output_type": "execute_result",
          "data": {
            "text/plain": [
              "array([1, 2, 3, 4])"
            ]
          },
          "metadata": {
            "tags": []
          },
          "execution_count": 95
        }
      ]
    },
    {
      "cell_type": "code",
      "metadata": {
        "colab": {
          "base_uri": "https://localhost:8080/"
        },
        "id": "3aBM0CBaHbsm",
        "outputId": "23a6882f-3b74-49b3-dc97-4a694ccfb075"
      },
      "source": [
        "#Following is the input NumPy array delete column two and insert following new column in its place.\r\n",
        "sampleArray = np.array([[34,43,73],[82,22,12],[53,94,66]])\r\n",
        "newColumn = np.array([[10,10,10]])\r\n",
        "sampleArray[1]=newColumn\r\n",
        "print(sampleArray)"
      ],
      "execution_count": 99,
      "outputs": [
        {
          "output_type": "stream",
          "text": [
            "[[34 43 73]\n",
            " [10 10 10]\n",
            " [53 94 66]]\n"
          ],
          "name": "stdout"
        }
      ]
    },
    {
      "cell_type": "code",
      "metadata": {
        "colab": {
          "base_uri": "https://localhost:8080/"
        },
        "id": "BDWf3pNKIOfT",
        "outputId": "ded4ab2b-4dee-4082-860a-6413f9601ace"
      },
      "source": [
        "#Find the dot product of the above two matrix\r\n",
        "x = np.array([[1., 2., 3.], [4., 5., 6.]])\r\n",
        "y = np.array([[6., 23.], [-1, 7], [8, 9]])\r\n",
        "np.dot(x,y)"
      ],
      "execution_count": 100,
      "outputs": [
        {
          "output_type": "execute_result",
          "data": {
            "text/plain": [
              "array([[ 28.,  64.],\n",
              "       [ 67., 181.]])"
            ]
          },
          "metadata": {
            "tags": []
          },
          "execution_count": 100
        }
      ]
    },
    {
      "cell_type": "code",
      "metadata": {
        "colab": {
          "base_uri": "https://localhost:8080/"
        },
        "id": "SEpbqzIOIhmj",
        "outputId": "88b809d0-f8f8-490f-8adf-12f0ccab9a59"
      },
      "source": [
        "#Generate a matrix of 20 random values and find its cumulative sum\r\n",
        "m=np.random.randint(20,size=(random.randint(0,5),random.randint(0,5)))\r\n",
        "np.cumsum(m)"
      ],
      "execution_count": 103,
      "outputs": [
        {
          "output_type": "execute_result",
          "data": {
            "text/plain": [
              "array([ 13,  32,  45,  46,  56,  75,  82,  82,  89,  98, 114, 115])"
            ]
          },
          "metadata": {
            "tags": []
          },
          "execution_count": 103
        }
      ]
    }
  ]
}